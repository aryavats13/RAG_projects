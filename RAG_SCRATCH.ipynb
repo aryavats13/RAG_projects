{
 "cells": [
  {
   "cell_type": "code",
   "execution_count": 1,
   "id": "f79b472f-90ed-4c66-acc2-9a92603b54ca",
   "metadata": {},
   "outputs": [],
   "source": [
    "corpus_of_documents = [\n",
    "    \"Take a leisurely walk in the park and enjoy the fresh air.\",\n",
    "    \"Visit a local museum and discover something new.\",\n",
    "    \"Attend a live music concert and feel the rhythm.\",\n",
    "    \"Go for a hike and admire the natural scenery.\",\n",
    "    \"Have a picnic with friends and share some laughs.\",\n",
    "    \"Explore a new cuisine by dining at an ethnic restaurant.\",\n",
    "    \"Take a yoga class and stretch your body and mind.\",\n",
    "    \"Join a local sports league and enjoy some friendly competition.\",\n",
    "    \"Attend a workshop or lecture on a topic you're interested in.\",\n",
    "    \"Visit an amusement park and ride the roller coasters.\"\n",
    "]"
   ]
  },
  {
   "cell_type": "code",
   "execution_count": 2,
   "id": "21e29f8a-f324-4942-8ea7-8c2d5cd293bd",
   "metadata": {},
   "outputs": [
    {
     "data": {
      "text/plain": [
       "['Take a leisurely walk in the park and enjoy the fresh air.',\n",
       " 'Visit a local museum and discover something new.',\n",
       " 'Attend a live music concert and feel the rhythm.',\n",
       " 'Go for a hike and admire the natural scenery.',\n",
       " 'Have a picnic with friends and share some laughs.',\n",
       " 'Explore a new cuisine by dining at an ethnic restaurant.',\n",
       " 'Take a yoga class and stretch your body and mind.',\n",
       " 'Join a local sports league and enjoy some friendly competition.',\n",
       " \"Attend a workshop or lecture on a topic you're interested in.\",\n",
       " 'Visit an amusement park and ride the roller coasters.']"
      ]
     },
     "execution_count": 2,
     "metadata": {},
     "output_type": "execute_result"
    }
   ],
   "source": [
    "corpus_of_documents"
   ]
  },
  {
   "cell_type": "code",
   "execution_count": 3,
   "id": "f8ff1c65-cd12-4cd1-a142-089c73e6e428",
   "metadata": {},
   "outputs": [],
   "source": [
    "#embedding step -> numerical representation of the text"
   ]
  },
  {
   "cell_type": "code",
   "execution_count": 4,
   "id": "4a00ffdf-c40c-405c-8201-801f97dd6436",
   "metadata": {},
   "outputs": [],
   "source": [
    "query=\"i am an indian and i live in india\""
   ]
  },
  {
   "cell_type": "code",
   "execution_count": 5,
   "id": "0c5d4bf6-5996-4c2d-8c29-f4747d60be43",
   "metadata": {},
   "outputs": [],
   "source": [
    "document=\"india is a country for the indians and for everyone\""
   ]
  },
  {
   "cell_type": "code",
   "execution_count": 6,
   "id": "c9ec78ea-1aa7-45ca-a5ca-a171a52d6780",
   "metadata": {},
   "outputs": [],
   "source": [
    "from collections import Counter \n",
    "import math"
   ]
  },
  {
   "cell_type": "code",
   "execution_count": 7,
   "id": "6208dc03-14e1-4f12-b116-a68c11669507",
   "metadata": {},
   "outputs": [],
   "source": [
    "query_tokens=query.lower().split(\" \")"
   ]
  },
  {
   "cell_type": "code",
   "execution_count": 8,
   "id": "51be150c-34e3-4731-92f4-7aacbfbefea8",
   "metadata": {},
   "outputs": [],
   "source": [
    "document_tokens=document.lower().split(\" \")"
   ]
  },
  {
   "cell_type": "code",
   "execution_count": 9,
   "id": "37820215-4fd6-4eb2-b842-3a2e7591c1c9",
   "metadata": {},
   "outputs": [],
   "source": [
    "query_counter=Counter(query_tokens)"
   ]
  },
  {
   "cell_type": "code",
   "execution_count": 10,
   "id": "688c2acc-298e-43c9-a73b-f2e82fc9a673",
   "metadata": {},
   "outputs": [],
   "source": [
    "document_counter=Counter(document_tokens)"
   ]
  },
  {
   "cell_type": "code",
   "execution_count": 11,
   "id": "9c39a183-c493-4df6-87e1-710fbbf3ad0a",
   "metadata": {},
   "outputs": [
    {
     "data": {
      "text/plain": [
       "[2, 1, 1, 1, 1, 1, 1, 1]"
      ]
     },
     "execution_count": 11,
     "metadata": {},
     "output_type": "execute_result"
    }
   ],
   "source": [
    "lst=[]\n",
    "for token in query_counter.keys():\n",
    "    lst.append(query_counter[token])\n",
    "lst  #sentence vector -> frequency"
   ]
  },
  {
   "cell_type": "code",
   "execution_count": 12,
   "id": "991b5a9f-59d0-43b6-b0a7-e38fe3ce1d96",
   "metadata": {},
   "outputs": [
    {
     "data": {
      "text/plain": [
       "[1, 1, 1, 1, 2, 1, 1, 1, 1]"
      ]
     },
     "execution_count": 12,
     "metadata": {},
     "output_type": "execute_result"
    }
   ],
   "source": [
    "doclst=[]\n",
    "for token in document_counter.keys():\n",
    "    doclst.append(document_counter[token])\n",
    "doclst"
   ]
  },
  {
   "cell_type": "code",
   "execution_count": 13,
   "id": "eb201c53-c586-430f-a8d8-a10dea87dfe1",
   "metadata": {},
   "outputs": [
    {
     "data": {
      "text/plain": [
       "[1, 1]"
      ]
     },
     "execution_count": 13,
     "metadata": {},
     "output_type": "execute_result"
    }
   ],
   "source": [
    "mylist=[]\n",
    "for token in query_counter.keys() & document_counter.keys(): #only similar\n",
    "    mylist.append( query_counter[token]* document_counter[token])\n",
    "mylist #word level similarity"
   ]
  },
  {
   "cell_type": "code",
   "execution_count": 14,
   "id": "dc116ae9-e829-4ca1-80f9-aff20849439d",
   "metadata": {},
   "outputs": [],
   "source": [
    "dot_prod=sum(mylist)"
   ]
  },
  {
   "cell_type": "markdown",
   "id": "2d0dfec2-dd43-4783-83c7-237459b05e77",
   "metadata": {},
   "source": [
    "mangnitude of vector = root(a2+b2)"
   ]
  },
  {
   "cell_type": "code",
   "execution_count": 15,
   "id": "097c63dd-476a-4309-abc5-065202435f2a",
   "metadata": {},
   "outputs": [],
   "source": [
    "query_mag=math.sqrt(sum(query_counter[token]**2 for token in query_counter))"
   ]
  },
  {
   "cell_type": "code",
   "execution_count": 16,
   "id": "ba035a02-9bf2-43a5-ab57-1dade6ccecb5",
   "metadata": {},
   "outputs": [
    {
     "data": {
      "text/plain": [
       "3.3166247903554"
      ]
     },
     "execution_count": 16,
     "metadata": {},
     "output_type": "execute_result"
    }
   ],
   "source": [
    "query_mag"
   ]
  },
  {
   "cell_type": "code",
   "execution_count": 17,
   "id": "adb4c1cd-eda3-4adc-ae8c-eaadabd83a0c",
   "metadata": {},
   "outputs": [],
   "source": [
    "doc_mag=math.sqrt(sum(document_counter[token]**2 for token in document_counter))"
   ]
  },
  {
   "cell_type": "code",
   "execution_count": 18,
   "id": "a097fb60-cd93-4e8f-a90c-2493e08ee5d6",
   "metadata": {},
   "outputs": [
    {
     "data": {
      "text/plain": [
       "3.4641016151377544"
      ]
     },
     "execution_count": 18,
     "metadata": {},
     "output_type": "execute_result"
    }
   ],
   "source": [
    "doc_mag"
   ]
  },
  {
   "cell_type": "code",
   "execution_count": 19,
   "id": "366abb8e-8144-4fc8-837d-c4ea1f3f8f18",
   "metadata": {},
   "outputs": [
    {
     "data": {
      "text/plain": [
       "0.17407765595569785"
      ]
     },
     "execution_count": 19,
     "metadata": {},
     "output_type": "execute_result"
    }
   ],
   "source": [
    "similarity=(dot_prod)/(query_mag*doc_mag)\n",
    "similarity"
   ]
  },
  {
   "cell_type": "code",
   "execution_count": 20,
   "id": "5cad6846-5fff-4793-b888-1abff75f47f5",
   "metadata": {},
   "outputs": [],
   "source": [
    "query=\"is yoga good for health\"\n",
    "document=\"yoga is very good for living a healthy lifestyle\""
   ]
  },
  {
   "cell_type": "code",
   "execution_count": 21,
   "id": "08e39148-af28-412e-8b91-eb9712790009",
   "metadata": {},
   "outputs": [],
   "source": [
    "def cosine_similarity(query,document):\n",
    "    query_tokens=query.lower().split(\" \")\n",
    "    document_tokens=document.lower().split(\" \")\n",
    "    query_counter=Counter(query_tokens)\n",
    "    document_counter=Counter(document_tokens)\n",
    "    dot_prod=sum(query_counter[token]* document_counter[token]for token in query_counter.keys())\n",
    "    query_mag=math.sqrt(sum(query_counter[token]**2 for token in query_counter))\n",
    "    doc_mag=math.sqrt(sum(document_counter[token]**2 for token in document_counter))\n",
    "    similarity = dot_prod / (query_mag * doc_mag) if query_mag * doc_mag != 0 else 0\n",
    "    return similarity"
   ]
  },
  {
   "cell_type": "code",
   "execution_count": 22,
   "id": "d61875fb-8eca-4d76-b210-958eeea2f186",
   "metadata": {},
   "outputs": [
    {
     "data": {
      "text/plain": [
       "0.5962847939999439"
      ]
     },
     "execution_count": 22,
     "metadata": {},
     "output_type": "execute_result"
    }
   ],
   "source": [
    "cosine_similarity(query,document)"
   ]
  },
  {
   "cell_type": "markdown",
   "id": "74818cff-f137-4afd-a430-164908b9d6fe",
   "metadata": {},
   "source": [
    "user= question->counter->embedding(counter)->cosine similarity->rank result "
   ]
  },
  {
   "cell_type": "code",
   "execution_count": 23,
   "id": "9a16c480-661c-4760-953e-bb126ac126a6",
   "metadata": {},
   "outputs": [],
   "source": [
    "def response(query,corpus):\n",
    "    similarities=[]\n",
    "    for doc in corpus:\n",
    "        similarity=cosine_similarity(query,doc)\n",
    "        similarities.append(similarity)\n",
    "        \n",
    "    return corpus_of_documents[similarities.index(max(similarities))]"
   ]
  },
  {
   "cell_type": "code",
   "execution_count": 24,
   "id": "5becc0d0-f9fe-4569-b01e-200966081413",
   "metadata": {},
   "outputs": [],
   "source": [
    "corpus_of_documents = [\n",
    "    \"Take a leisurely walk in the park and enjoy the fresh air.\",\n",
    "    \"Visit a local museum and discover something new.\",\n",
    "    \"Attend a live music concert and feel the rhythm.\",\n",
    "    \"Go for a hike and admire the natural scenery.\",\n",
    "    \"Have a picnic with friends and share some laughs.\",\n",
    "    \"Explore a new cuisine by dining at an ethnic restaurant.\",\n",
    "    \"Take a yoga class and stretch your body and mind.\",\n",
    "    \"Join a local sports league and enjoy some friendly competition.\",\n",
    "    \"Attend a workshop or lecture on a topic you're interested in.\",\n",
    "    \"Visit an amusement park and ride the roller coasters.\"\n",
    "]"
   ]
  },
  {
   "cell_type": "code",
   "execution_count": 25,
   "id": "703d3b3d-96a9-4d65-b303-a3517c581353",
   "metadata": {},
   "outputs": [],
   "source": [
    "query=\"i like fresh air\""
   ]
  },
  {
   "cell_type": "code",
   "execution_count": 26,
   "id": "187cb03a-a3a4-4ce2-8ad2-02a9f6c5a63e",
   "metadata": {},
   "outputs": [
    {
     "data": {
      "text/plain": [
       "'Take a leisurely walk in the park and enjoy the fresh air.'"
      ]
     },
     "execution_count": 26,
     "metadata": {},
     "output_type": "execute_result"
    }
   ],
   "source": [
    "response(query,corpus_of_documents)"
   ]
  },
  {
   "cell_type": "code",
   "execution_count": 42,
   "id": "691cf10f-7917-43a0-ba3a-ff907c7c634e",
   "metadata": {},
   "outputs": [
    {
     "name": "stdout",
     "output_type": "stream",
     "text": [
      "Retrieved doc: Take a yoga class and stretch your body and mind.\n"
     ]
    }
   ],
   "source": [
    "user_input = \"I like yoga and stretching\"\n",
    "relevant_document = response(user_input, corpus_of_documents)\n",
    "print(\"Retrieved doc:\", relevant_document)"
   ]
  },
  {
   "cell_type": "code",
   "execution_count": 43,
   "id": "f76868b5-0521-4096-aca4-ef199fe54591",
   "metadata": {},
   "outputs": [],
   "source": [
    "# configuring LLM in local system \n",
    "#LLAMA2\n",
    "#hugging face(example , not using )\n",
    "#OLLAMA->using"
   ]
  },
  {
   "cell_type": "code",
   "execution_count": 44,
   "id": "f786f79b-7b5e-4a99-8d28-2e20f27dcc25",
   "metadata": {},
   "outputs": [],
   "source": [
    "#augmenting the result "
   ]
  },
  {
   "cell_type": "code",
   "execution_count": 45,
   "id": "d94a1a2d-415e-49f0-b69d-adef09b4ca59",
   "metadata": {},
   "outputs": [],
   "source": [
    "prompt = f\"\"\"\n",
    "You are a bot that makes recommendations for activities. Keep it very short.\n",
    "Recommended activity: {relevant_document}\n",
    "User input: {user_input}\n",
    "\"\"\""
   ]
  },
  {
   "cell_type": "code",
   "execution_count": 49,
   "id": "fe2c7ad7-eb80-48eb-8ec6-fbb1327f4968",
   "metadata": {},
   "outputs": [
    {
     "ename": "KeyError",
     "evalue": "'response'",
     "output_type": "error",
     "traceback": [
      "\u001b[1;31m---------------------------------------------------------------------------\u001b[0m",
      "\u001b[1;31mKeyError\u001b[0m                                  Traceback (most recent call last)",
      "Cell \u001b[1;32mIn[49], line 28\u001b[0m\n\u001b[0;32m     26\u001b[0m             decoded_line \u001b[38;5;241m=\u001b[39m json\u001b[38;5;241m.\u001b[39mloads(line\u001b[38;5;241m.\u001b[39mdecode(\u001b[38;5;124m'\u001b[39m\u001b[38;5;124mutf-8\u001b[39m\u001b[38;5;124m'\u001b[39m))\n\u001b[0;32m     27\u001b[0m             \u001b[38;5;66;03m# print(decoded_line['response'])  # uncomment to results, token by token\u001b[39;00m\n\u001b[1;32m---> 28\u001b[0m             full_response\u001b[38;5;241m.\u001b[39mappend(\u001b[43mdecoded_line\u001b[49m\u001b[43m[\u001b[49m\u001b[38;5;124;43m'\u001b[39;49m\u001b[38;5;124;43mresponse\u001b[39;49m\u001b[38;5;124;43m'\u001b[39;49m\u001b[43m]\u001b[49m)\n\u001b[0;32m     29\u001b[0m \u001b[38;5;28;01mfinally\u001b[39;00m:\n\u001b[0;32m     30\u001b[0m     response\u001b[38;5;241m.\u001b[39mclose()\n",
      "\u001b[1;31mKeyError\u001b[0m: 'response'"
     ]
    }
   ],
   "source": [
    "full_response = []\n",
    "prompt = \"\"\"\n",
    "You are a bot that makes recommendations for activities. You answer in very short sentences and do not include extra information.\n",
    "This is the recommended activity: {relevant_document}\n",
    "The user input is: {user_input}\n",
    "Compile a recommendation to the user based on the recommended activity and the user input.\n",
    "\"\"\"\n",
    "\n",
    "url = 'http://localhost:11434/api/generate'\n",
    "\n",
    "\n",
    "data = {\n",
    "    \"model\": \"llama2\",\n",
    "    \"prompt\": prompt.format(user_input=user_input, relevant_document=relevant_document)\n",
    "}\n",
    "\n",
    "headers = {'Content-Type': 'application/json'}\n",
    "\n",
    "response = requests.post(url, data=json.dumps(data), headers=headers, stream=True)\n",
    "\n",
    "\n",
    "try:\n",
    "    for line in response.iter_lines():\n",
    "        # filter out keep-alive new lines\n",
    "        if line:\n",
    "            decoded_line = json.loads(line.decode('utf-8'))\n",
    "            # print(decoded_line['response'])  # uncomment to results, token by token\n",
    "            full_response.append(decoded_line['response'])\n",
    "finally:\n",
    "    response.close()\n",
    "    \n",
    "    \n",
    "print(''.join(full_response))"
   ]
  },
  {
   "cell_type": "code",
   "execution_count": null,
   "id": "d8346b59-80e3-437b-9ddb-deb8cd085945",
   "metadata": {},
   "outputs": [],
   "source": []
  },
  {
   "cell_type": "code",
   "execution_count": null,
   "id": "e166e045-d86a-4b25-abe2-9c74df15b79a",
   "metadata": {},
   "outputs": [],
   "source": []
  }
 ],
 "metadata": {
  "kernelspec": {
   "display_name": "Python 3 (ipykernel)",
   "language": "python",
   "name": "python3"
  },
  "language_info": {
   "codemirror_mode": {
    "name": "ipython",
    "version": 3
   },
   "file_extension": ".py",
   "mimetype": "text/x-python",
   "name": "python",
   "nbconvert_exporter": "python",
   "pygments_lexer": "ipython3",
   "version": "3.12.3"
  }
 },
 "nbformat": 4,
 "nbformat_minor": 5
}
